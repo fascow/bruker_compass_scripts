{
 "cells": [
  {
   "cell_type": "markdown",
   "metadata": {},
   "source": [
    "# Library Spectra Export process results"
   ]
  },
  {
   "cell_type": "markdown",
   "metadata": {},
   "source": [
    "Read spectra files exported from the Bruker Spectra Library. All spectra files shall end with \".spectrum\" and be located in one folder. Only one spectrum per file.\n",
    "\n",
    "Please, specify the folder containing \\*.spectrum files and the name for the results file:"
   ]
  },
  {
   "cell_type": "code",
   "execution_count": 1,
   "metadata": {
    "collapsed": false
   },
   "outputs": [],
   "source": [
    "folder  = 'D:\\data\\Libraries\\Example_Xpec'\n",
    "archive = 'all_spectra.json'"
   ]
  },
  {
   "cell_type": "markdown",
   "metadata": {},
   "source": [
    "Load python libraries and define fuctions."
   ]
  },
  {
   "cell_type": "code",
   "execution_count": 2,
   "metadata": {
    "collapsed": false
   },
   "outputs": [],
   "source": [
    "import sys\n",
    "import os.path\n",
    "import codecs\n",
    "import json\n",
    "\n",
    "def dpstr2dict(filename, data_points_string, meta_count):\n",
    "    data_points = {} # using a dict to store the spectrum\n",
    "                     # TODO: maybe use numpy ndarray instead\n",
    "    points = data_points_string.strip().split()\n",
    "    count = len(points)\n",
    "    if (count / 2) != int(meta_count):\n",
    "        print \"Could not convert string to dict! Data point mismatch in spectrum: \" + filename\n",
    "        return data_points_string # preserve original data\n",
    "    for i in xrange(0, count, 2):\n",
    "        data_points[float(points[i])] = int(points[i + 1])\n",
    "    #print (meta_count)\n",
    "    #print len(data_points)\n",
    "    return data_points\n",
    "\n",
    "def readspectrum(filename, filecontent):\n",
    "    spectrum = {'SpecFile': filename}\n",
    "    values = \"\"\n",
    "    for line in filecontent.splitlines():\n",
    "        contents = line.split(':')\n",
    "        if len(contents) == 2:\n",
    "            key, value = contents\n",
    "            spectrum[key.strip()] = value.strip()\n",
    "        # 'Date', 'AnalName' and probably comments have multiple ':'\n",
    "        elif len(contents) > 2:\n",
    "            key = contents[0]\n",
    "            value = ':'.join(contents[1:])\n",
    "            spectrum[key.strip()] = value.strip()\n",
    "        # spectra do not contain \":\"\n",
    "        else:\n",
    "            values += contents[0]\n",
    "    values = dpstr2dict(filename, values, spectrum['Num Peaks'])\n",
    "    spectrum['Values'] = values\n",
    "    return spectrum"
   ]
  },
  {
   "cell_type": "markdown",
   "metadata": {},
   "source": [
    "Run the main script, which uses the functions above to collect all spectra in a list of dicts."
   ]
  },
  {
   "cell_type": "code",
   "execution_count": 3,
   "metadata": {
    "collapsed": false
   },
   "outputs": [
    {
     "name": "stdout",
     "output_type": "stream",
     "text": [
      "The library contains 352 spectra.\n"
     ]
    }
   ],
   "source": [
    "folder = os.path.abspath(folder)\n",
    "\n",
    "if not os.path.exists(folder) or not os.path.isdir(folder):\n",
    "    print \"Folder not found!\"\n",
    "    sys.exit(0)\n",
    "\n",
    "library = []\n",
    "\n",
    "for spectrum in os.listdir(folder):\n",
    "    if not spectrum.endswith('.spectrum'):\n",
    "        print \"Skipped file: \" + spectrum\n",
    "        continue\n",
    "    spectrum = os.path.join(folder, spectrum)\n",
    "    #print spectrum\n",
    "    with codecs.open(spectrum, 'r', 'cp1252') as s:\n",
    "        data = readspectrum(spectrum, s.read())\n",
    "        library.append(data)\n",
    "\n",
    "print 'The library contains ' + str(len(library)) + ' spectra.'"
   ]
  },
  {
   "cell_type": "markdown",
   "metadata": {},
   "source": [
    "Store all spectra in a single json file."
   ]
  },
  {
   "cell_type": "code",
   "execution_count": 4,
   "metadata": {
    "collapsed": false
   },
   "outputs": [],
   "source": [
    "archive = os.path.join(folder, archive)\n",
    "\n",
    "with open(archive, 'w') as out:\n",
    "    json.dump(library, out, indent = 4, sort_keys = True)"
   ]
  }
 ],
 "metadata": {
  "kernelspec": {
   "display_name": "Python 2",
   "language": "python",
   "name": "python2"
  },
  "language_info": {
   "codemirror_mode": {
    "name": "ipython",
    "version": 2
   },
   "file_extension": ".py",
   "mimetype": "text/x-python",
   "name": "python",
   "nbconvert_exporter": "python",
   "pygments_lexer": "ipython2",
   "version": "2.7.12"
  }
 },
 "nbformat": 4,
 "nbformat_minor": 0
}
