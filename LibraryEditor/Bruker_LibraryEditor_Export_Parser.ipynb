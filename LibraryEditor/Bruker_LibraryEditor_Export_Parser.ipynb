{
 "cells": [
  {
   "cell_type": "markdown",
   "metadata": {},
   "source": [
    "# Bruker LibraryEditor Export Parser"
   ]
  },
  {
   "cell_type": "markdown",
   "metadata": {},
   "source": [
    "Read *.library* files exported from the Bruker Compass LibraryEditor 4.2 and save as *JSON*"
   ]
  },
  {
   "cell_type": "code",
   "execution_count": 1,
   "metadata": {
    "collapsed": false
   },
   "outputs": [],
   "source": [
    "source  = 'Example.library'\n",
    "destination = 'Example.json'"
   ]
  },
  {
   "cell_type": "markdown",
   "metadata": {},
   "source": [
    "Load modules and define functions."
   ]
  },
  {
   "cell_type": "code",
   "execution_count": 2,
   "metadata": {
    "collapsed": false
   },
   "outputs": [],
   "source": [
    "import re\n",
    "import codecs\n",
    "import json\n",
    "\n",
    "def dpstr2dict(filename, data_points_string, meta_count):\n",
    "    data_points = {}\n",
    "    points = data_points_string.strip().split()\n",
    "    count = len(points)\n",
    "    if (count / 2) != int(meta_count):\n",
    "        print \"Could not convert string to dict! Data point mismatch in spectrum: \" + filename\n",
    "        return data_points_string # preserve original data\n",
    "    for i in xrange(0, count, 2):\n",
    "        data_points[float(points[i])] = int(points[i + 1])\n",
    "    #print (meta_count)\n",
    "    #print len(data_points)\n",
    "    return data_points\n",
    "\n",
    "def readspectrum(filename, filecontent):\n",
    "    spectrum = {'SpecFile': filename, 'Comment': ''}\n",
    "    #spectrum = {}\n",
    "    values = \"\"\n",
    "    for line in filecontent.splitlines():\n",
    "        contents = line.split(':')\n",
    "        if len(contents) == 2:\n",
    "            key, value = contents\n",
    "            spectrum[key.strip()] = value.strip()\n",
    "        # 'Date', 'AnalName' and probably comments have multiple ':'\n",
    "        elif len(contents) > 2:\n",
    "            key = contents[0]\n",
    "            value = ':'.join(contents[1:])\n",
    "            spectrum[key.strip()] = value.strip()\n",
    "        # spectra do not contain \":\"\n",
    "        else:\n",
    "            values += contents[0]\n",
    "    #print spectrum\n",
    "    values = dpstr2dict(filename, values, spectrum['Num Peaks'])\n",
    "    spectrum['Values'] = values\n",
    "    return spectrum"
   ]
  },
  {
   "cell_type": "markdown",
   "metadata": {},
   "source": [
    "Run the main script, which uses the functions above to collect all spectra in a dict of lists of dicts."
   ]
  },
  {
   "cell_type": "code",
   "execution_count": 3,
   "metadata": {
    "collapsed": false,
    "scrolled": true
   },
   "outputs": [
    {
     "name": "stdout",
     "output_type": "stream",
     "text": [
      "The library contains 415 spectra in 350 compounds.\n"
     ]
    }
   ],
   "source": [
    "with codecs.open(source, 'r', 'cp1252') as s:\n",
    "    spec_list = re.split('\\r\\n\\r\\n', s.read())[:-1]\n",
    "\n",
    "library = {0: [{'Name': None}]}\n",
    "i = 1\n",
    "\n",
    "for spec in spec_list:\n",
    "    data = readspectrum(source, spec)\n",
    "    h = i - 1\n",
    "    if data['Name'] == library[h][-1]['Name']:\n",
    "        library[h].append(data)\n",
    "    else:\n",
    "        library[i] = [data]\n",
    "        i += 1\n",
    "\n",
	"del library[0]\n",
	"\n",
    "print 'The library contains ' + str(len(spec_list)) + ' spectra in ' + str(len(library)) + ' compounds.'"
   ]
  },
  {
   "cell_type": "markdown",
   "metadata": {},
   "source": [
    "Save spectra in *JSON* file."
   ]
  },
  {
   "cell_type": "code",
   "execution_count": 4,
   "metadata": {
    "collapsed": false
   },
   "outputs": [],
   "source": [
    "with open(destination, 'w') as out:\n",
    "    json.dump(library, out, indent = 4, sort_keys = True)"
   ]
  }
 ],
 "metadata": {
  "kernelspec": {
   "display_name": "Python 2",
   "language": "python",
   "name": "python2"
  },
  "language_info": {
   "codemirror_mode": {
    "name": "ipython",
    "version": 2
   },
   "file_extension": ".py",
   "mimetype": "text/x-python",
   "name": "python",
   "nbconvert_exporter": "python",
   "pygments_lexer": "ipython2",
   "version": "2.7.12"
  }
 },
 "nbformat": 4,
 "nbformat_minor": 0
}
